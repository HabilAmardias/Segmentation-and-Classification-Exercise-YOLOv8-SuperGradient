{
 "cells": [
  {
   "cell_type": "code",
   "execution_count": null,
   "metadata": {},
   "outputs": [],
   "source": [
    "from ultralytics import YOLO\n",
    "from pathlib import Path\n",
    "import cv2\n",
    "import numpy as np\n",
    "import torch"
   ]
  },
  {
   "cell_type": "code",
   "execution_count": null,
   "metadata": {},
   "outputs": [],
   "source": [
    "model = YOLO('yolov8n-seg.pt')"
   ]
  },
  {
   "cell_type": "code",
   "execution_count": null,
   "metadata": {},
   "outputs": [],
   "source": [
    "model = YOLO('runs/segment/train/weights/best.pt') #if you already train a model, run this cell"
   ]
  },
  {
   "cell_type": "code",
   "execution_count": null,
   "metadata": {},
   "outputs": [],
   "source": [
    "Normal_dir=Path(\"TB_Chest_Radiography_Database/Normal/\")\n",
    "TB_dir=Path(\"TB_Chest_Radiography_Database/Tuberculosis/\")\n",
    "Normal_images:list=sorted(list(map(str, list(Normal_dir.glob(\"*.png\")))))\n",
    "TB_images:list=sorted(list(map(str, list(TB_dir.glob(\"*.png\")))))"
   ]
  },
  {
   "cell_type": "code",
   "execution_count": null,
   "metadata": {},
   "outputs": [],
   "source": [
    "for path in Normal_images:\n",
    "    path=path.replace(\"\\\\\",'/')\n",
    "    img=cv2.imread(path)\n",
    "    img=cv2.GaussianBlur(img,(5,5),0)\n",
    "    img=cv2.cvtColor(img,cv2.COLOR_BGR2LAB)\n",
    "    clahe=cv2.createCLAHE(3,(16,16))\n",
    "    img[:,:,0] = clahe.apply(img[:,:,0])\n",
    "    img=cv2.cvtColor(img,cv2.COLOR_LAB2RGB)\n",
    "    img=cv2.resize(img,(224,224))\n",
    "    cv2.imwrite(f'Preprocessed/Normal/{path.split(\"/\")[-1]}',img)"
   ]
  },
  {
   "cell_type": "code",
   "execution_count": null,
   "metadata": {},
   "outputs": [],
   "source": [
    "for path in TB_images:\n",
    "    path=path.replace(\"\\\\\",'/')\n",
    "    img=cv2.imread(path)\n",
    "    img=cv2.GaussianBlur(img,(5,5),0)\n",
    "    img=cv2.cvtColor(img,cv2.COLOR_BGR2LAB)\n",
    "    clahe=cv2.createCLAHE(3,(16,16))\n",
    "    img[:,:,0] = clahe.apply(img[:,:,0])\n",
    "    img=cv2.cvtColor(img,cv2.COLOR_LAB2RGB)\n",
    "    img=cv2.resize(img,(224,224))\n",
    "    cv2.imwrite(f'Preprocessed/Tuberculosis/{path.split(\"/\")[-1]}',img)"
   ]
  },
  {
   "cell_type": "code",
   "execution_count": null,
   "metadata": {},
   "outputs": [],
   "source": [
    "model.train(data='Chest X-Ray Segmentation.v5i.yolov8\\data.yaml',\n",
    "            epochs=100,\n",
    "            patience=10,\n",
    "            batch=10,\n",
    "            imgsz=224,\n",
    "            device=0,\n",
    "            optimizer='Adam',\n",
    "            lr0=1e-3,\n",
    "            lrf=1e-3,\n",
    "            amp=False)"
   ]
  },
  {
   "cell_type": "code",
   "execution_count": null,
   "metadata": {},
   "outputs": [],
   "source": [
    "model.val()"
   ]
  },
  {
   "cell_type": "code",
   "execution_count": null,
   "metadata": {},
   "outputs": [],
   "source": [
    "preprocessed_normal_dir=Path(\"Preprocessed/Normal\")\n",
    "preprocessed_Tuberculosis_dir=Path(\"Preprocessed/Tuberculosis\")\n",
    "preprocessed_normal_images:list=sorted(list(map(str, list(preprocessed_normal_dir.glob(\"*.png\")))))\n",
    "preprocessed_Tuberculosis_images:list=sorted(list(map(str, list(preprocessed_Tuberculosis_dir.glob(\"*.png\")))))\n",
    "len(preprocessed_normal_images),len(preprocessed_Tuberculosis_images)"
   ]
  },
  {
   "cell_type": "code",
   "execution_count": null,
   "metadata": {},
   "outputs": [],
   "source": [
    "results=model.predict(preprocessed_Tuberculosis_images,imgsz=224,device=0)\n",
    "not_segmented=0\n",
    "for i in range(len(results)):\n",
    "    masks_raw=results[i].masks.data.cpu().numpy()\n",
    "    if len(masks_raw)==2:\n",
    "        mask_raw1=masks_raw[0].astype(np.uint8)\n",
    "        mask_raw2=masks_raw[1].astype(np.uint8)\n",
    "        mask_raw=np.add(mask_raw1,mask_raw2)\n",
    "        mask_3channel = cv2.merge((mask_raw,mask_raw,mask_raw))\n",
    "        h2, w2, c2 = results[i].orig_img.shape\n",
    "        mask = cv2.resize(mask_3channel, (w2, h2))\n",
    "        masked=np.multiply(results[i].orig_img,mask)\n",
    "        cv2.imwrite(f'Cropped/Tuberculosis/Tuberculosis_{i+1}.png',masked)\n",
    "    else:\n",
    "        not_segmented+=1"
   ]
  },
  {
   "cell_type": "code",
   "execution_count": null,
   "metadata": {},
   "outputs": [],
   "source": [
    "not_segmented"
   ]
  },
  {
   "cell_type": "code",
   "execution_count": null,
   "metadata": {},
   "outputs": [],
   "source": [
    "results1=model.predict(preprocessed_normal_images,imgsz=224,device=0)\n",
    "not_segmented1=0\n",
    "for i in range(len(results1)):\n",
    "    if results1[i] == None:\n",
    "        not_segmented1+=1\n",
    "    masks_raw=results1[i].masks.data.cpu().numpy()\n",
    "    if len(masks_raw)==2:\n",
    "        mask_raw1=masks_raw[0].astype(np.uint8)\n",
    "        mask_raw2=masks_raw[1].astype(np.uint8)\n",
    "        mask_raw=np.add(mask_raw1,mask_raw2)\n",
    "        mask_3channel = cv2.merge((mask_raw,mask_raw,mask_raw))\n",
    "        h2, w2, c2 = results1[i].orig_img.shape\n",
    "        mask = cv2.resize(mask_3channel, (w2, h2))\n",
    "        masked=np.multiply(results1[i].orig_img,mask)\n",
    "        cv2.imwrite(f'Cropped/Normal/Normal_{i+1}.png',masked)\n",
    "    else:\n",
    "        not_segmented1+=1"
   ]
  },
  {
   "cell_type": "code",
   "execution_count": null,
   "metadata": {},
   "outputs": [],
   "source": [
    "not_segmented1"
   ]
  },
  {
   "cell_type": "code",
   "execution_count": null,
   "metadata": {},
   "outputs": [],
   "source": [
    "from torch.utils.data import TensorDataset\n",
    "from torch.utils.data import DataLoader"
   ]
  },
  {
   "cell_type": "code",
   "execution_count": null,
   "metadata": {},
   "outputs": [],
   "source": [
    "Cropped_normal_dir=Path(\"Cropped/Normal\")\n",
    "Cropped_normal_images:list=sorted(list(map(str, list(Cropped_normal_dir.glob(\"*.png\")))))\n",
    "Cropped_Tuberculosis_dir=Path(\"Cropped/Tuberculosis\")\n",
    "Cropped_Tuberculosis_images:list=sorted(list(map(str, list(Cropped_Tuberculosis_dir.glob(\"*.png\")))))\n",
    "len(Cropped_normal_images),len(Cropped_Tuberculosis_images)"
   ]
  },
  {
   "cell_type": "code",
   "execution_count": null,
   "metadata": {},
   "outputs": [],
   "source": [
    "normal_class=[[1,0]]*len(Cropped_normal_images)\n",
    "tb_class=[[0,1]]*len(Cropped_Tuberculosis_images)\n",
    "len(normal_class),len(tb_class)"
   ]
  },
  {
   "cell_type": "code",
   "execution_count": null,
   "metadata": {},
   "outputs": [],
   "source": [
    "images=Cropped_normal_images+Cropped_Tuberculosis_images\n",
    "labels=normal_class+tb_class\n",
    "len(images),len(labels)"
   ]
  },
  {
   "cell_type": "code",
   "execution_count": null,
   "metadata": {},
   "outputs": [],
   "source": [
    "from sklearn.model_selection import train_test_split\n",
    "x_train,x_val,y_train,y_val=train_test_split(np.array(images),np.array(labels),test_size=0.1,random_state=42)\n",
    "x_train.shape,x_val.shape,y_train.shape,y_val.shape"
   ]
  },
  {
   "cell_type": "code",
   "execution_count": null,
   "metadata": {},
   "outputs": [],
   "source": [
    "def image_preprocessing(path):\n",
    "    img=cv2.imread(path)\n",
    "    img=np.moveaxis(img,2,0)\n",
    "    return img"
   ]
  },
  {
   "cell_type": "code",
   "execution_count": null,
   "metadata": {},
   "outputs": [],
   "source": [
    "x_train=np.array(list(map(image_preprocessing,x_train)))\n",
    "x_val=np.array(list(map(image_preprocessing,x_val)))\n",
    "x_train.shape,x_val.shape"
   ]
  },
  {
   "cell_type": "code",
   "execution_count": null,
   "metadata": {},
   "outputs": [],
   "source": [
    "device=(\"cuda\" if torch.cuda.is_available() else \"cpu\")\n",
    "print(device)"
   ]
  },
  {
   "cell_type": "code",
   "execution_count": null,
   "metadata": {},
   "outputs": [],
   "source": [
    "x_train=torch.from_numpy(x_train.astype(np.float16)).to(device)\n",
    "x_val=torch.from_numpy(x_val.astype(np.float32)).to(device)\n",
    "type(x_train),type(x_val)"
   ]
  },
  {
   "cell_type": "code",
   "execution_count": null,
   "metadata": {},
   "outputs": [],
   "source": [
    "y_train=torch.from_numpy(y_train.astype(np.float16)).to(device)\n",
    "y_val=torch.from_numpy(y_val.astype(np.float32)).to(device)\n",
    "type(y_train),type(y_val)"
   ]
  },
  {
   "cell_type": "code",
   "execution_count": null,
   "metadata": {},
   "outputs": [],
   "source": [
    "class StandardScaler():\n",
    "    def __init__(self) -> None:\n",
    "        self.mean=None\n",
    "        self.std=None\n",
    "    def fit(self,tensor:torch.Tensor) -> None:\n",
    "        self.mean=tensor.mean((0,2,3),keepdim=True)\n",
    "        self.std=tensor.std((0,2,3),keepdim=True)\n",
    "    def transform(self,tensor:torch.Tensor) -> torch.Tensor:\n",
    "        scaled=(tensor-self.mean)/(self.std+1e-5)\n",
    "        return scaled\n",
    "    def fit_transform(self,tensor:torch.Tensor) -> torch.Tensor:\n",
    "        self.fit(tensor=tensor)\n",
    "        scaled=self.transform(tensor=tensor)\n",
    "        return scaled"
   ]
  },
  {
   "cell_type": "code",
   "execution_count": null,
   "metadata": {},
   "outputs": [],
   "source": [
    "scaler=StandardScaler()\n",
    "x_train=scaler.fit_transform(x_train)\n",
    "x_val=scaler.transform(x_val)"
   ]
  },
  {
   "cell_type": "code",
   "execution_count": null,
   "metadata": {},
   "outputs": [],
   "source": [
    "train_dataset=TensorDataset(x_train,y_train)\n",
    "train_loader=DataLoader(train_dataset,batch_size=20)\n",
    "val_dataset=TensorDataset(x_val,y_val)\n",
    "val_loader=DataLoader(val_dataset,batch_size=20)"
   ]
  },
  {
   "cell_type": "code",
   "execution_count": null,
   "metadata": {},
   "outputs": [],
   "source": [
    "from super_gradients.training.utils.distributed_training_utils import setup_device\n",
    "setup_device(device='cuda',num_gpus=1)"
   ]
  },
  {
   "cell_type": "code",
   "execution_count": null,
   "metadata": {},
   "outputs": [],
   "source": [
    "from super_gradients import Trainer\n",
    "\n",
    "experiment_name = \"resnet50_cxr\"\n",
    "CHECKPOINT_DIR = 'checkpoints/root/dir'\n",
    "\n",
    "trainer = Trainer(experiment_name=experiment_name, ckpt_root_dir=CHECKPOINT_DIR)"
   ]
  },
  {
   "cell_type": "code",
   "execution_count": null,
   "metadata": {},
   "outputs": [],
   "source": [
    "from super_gradients.training import models\n",
    "from super_gradients.common.object_names import Models\n",
    "\n",
    "model = models.get(model_name=Models.RESNET50, num_classes=2, pretrained_weights='imagenet')"
   ]
  },
  {
   "cell_type": "code",
   "execution_count": null,
   "metadata": {},
   "outputs": [],
   "source": [
    "from super_gradients.training import training_hyperparams\n",
    "\n",
    "training_params =  training_hyperparams.get(config_name=\"training_hyperparams/imagenet_resnet50_train_params\")"
   ]
  },
  {
   "cell_type": "code",
   "execution_count": null,
   "metadata": {},
   "outputs": [],
   "source": [
    "import pprint\n",
    "pprint.pprint(\"Training parameters:\")\n",
    "pprint.pprint(training_params)"
   ]
  },
  {
   "cell_type": "code",
   "execution_count": null,
   "metadata": {},
   "outputs": [],
   "source": [
    "training_params[\"max_epochs\"] = 5\n",
    "training_params[\"train_metrics_list\"]=['Accuracy']\n",
    "training_params[\"valid_metrics_list\"]=['Accuracy']"
   ]
  },
  {
   "cell_type": "code",
   "execution_count": null,
   "metadata": {},
   "outputs": [],
   "source": [
    "trainer.train(model=model,\n",
    "              training_params=training_params, \n",
    "              train_loader=train_loader,\n",
    "              valid_loader=val_loader)"
   ]
  },
  {
   "cell_type": "code",
   "execution_count": null,
   "metadata": {},
   "outputs": [],
   "source": [
    "prediction_model = models.get(model_name=Models.RESNET50,\n",
    "                       num_classes=2,\n",
    "                       checkpoint_path='E:/Coolyeah/KULIAH/Komputasi Intelegensia/UTS/Risman/checkpoints/root/dir/resnet50_cxr/RUN_20240227_150705_010683/ckpt_best.pth')"
   ]
  },
  {
   "cell_type": "code",
   "execution_count": null,
   "metadata": {},
   "outputs": [],
   "source": [
    "from super_gradients.training.metrics.classification_metrics import Accuracy\n",
    "valid_result=trainer.test(prediction_model,val_loader,test_metrics_list=[Accuracy()])\n",
    "print(valid_result)"
   ]
  }
 ],
 "metadata": {
  "kernelspec": {
   "display_name": "torch",
   "language": "python",
   "name": "python3"
  },
  "language_info": {
   "codemirror_mode": {
    "name": "ipython",
    "version": 3
   },
   "file_extension": ".py",
   "mimetype": "text/x-python",
   "name": "python",
   "nbconvert_exporter": "python",
   "pygments_lexer": "ipython3",
   "version": "3.10.13"
  }
 },
 "nbformat": 4,
 "nbformat_minor": 2
}
